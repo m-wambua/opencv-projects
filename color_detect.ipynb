{
 "cells": [
  {
   "cell_type": "code",
   "execution_count": 4,
   "metadata": {},
   "outputs": [],
   "source": [
    "import numpy as np\n",
    "import cv2 \n",
    "\n",
    "image =cv2.imread('color.png')\n",
    "\n",
    "hsv_convert=cv2.cvtColor(image,cv2.COLOR_BGR2HSV)\n",
    "\n",
    "lower_range=np.array([110,50,50])\n",
    "upper_range=np.array([130,255,255])\n",
    "\n",
    "mask_toput=cv2.inRange(hsv_convert,lower_range,upper_range)\n",
    "cv2.imshow('image', image)\n",
    "cv2.imshow('mask',mask_toput)\n",
    "while(True):\n",
    "    k=cv2.waitKey(5) & 0xFF \n",
    "    if k==27:\n",
    "     break\n"
   ]
  },
  {
   "cell_type": "code",
   "execution_count": 5,
   "metadata": {},
   "outputs": [],
   "source": [
    "image =cv2.imread('color.png')\n"
   ]
  },
  {
   "cell_type": "code",
   "execution_count": 6,
   "metadata": {},
   "outputs": [],
   "source": [
    "hsv_convert=cv2.cvtColor(image,cv2.COLOR_BGR2HSV)\n"
   ]
  },
  {
   "cell_type": "code",
   "execution_count": 7,
   "metadata": {},
   "outputs": [],
   "source": [
    "lower_range=np.array([110,50,50])\n",
    "upper_range=np.array([130,255,255])\n"
   ]
  },
  {
   "cell_type": "code",
   "execution_count": 9,
   "metadata": {},
   "outputs": [
    {
     "ename": "KeyboardInterrupt",
     "evalue": "",
     "output_type": "error",
     "traceback": [
      "\u001b[1;31m---------------------------------------------------------------------------\u001b[0m",
      "\u001b[1;31mKeyboardInterrupt\u001b[0m                         Traceback (most recent call last)",
      "\u001b[1;32mc:\\Users\\ip 5\\mike\\path_to_perception\\opencv\\chapter-1\\color_detect.ipynb Cell 5\u001b[0m in \u001b[0;36m<cell line: 5>\u001b[1;34m()\u001b[0m\n\u001b[0;32m      <a href='vscode-notebook-cell:/c%3A/Users/ip%205/mike/path_to_perception/opencv/chapter-1/color_detect.ipynb#W4sZmlsZQ%3D%3D?line=2'>3</a>\u001b[0m cv2\u001b[39m.\u001b[39mimshow(\u001b[39m'\u001b[39m\u001b[39mmask\u001b[39m\u001b[39m'\u001b[39m,mask_toput)\n\u001b[0;32m      <a href='vscode-notebook-cell:/c%3A/Users/ip%205/mike/path_to_perception/opencv/chapter-1/color_detect.ipynb#W4sZmlsZQ%3D%3D?line=3'>4</a>\u001b[0m \u001b[39mwhile\u001b[39;00m(\u001b[39mTrue\u001b[39;00m):\n\u001b[1;32m----> <a href='vscode-notebook-cell:/c%3A/Users/ip%205/mike/path_to_perception/opencv/chapter-1/color_detect.ipynb#W4sZmlsZQ%3D%3D?line=4'>5</a>\u001b[0m     k\u001b[39m=\u001b[39mcv2\u001b[39m.\u001b[39;49mwaitKey(\u001b[39m5\u001b[39;49m) \u001b[39m&\u001b[39m \u001b[39m0xFF\u001b[39m \n\u001b[0;32m      <a href='vscode-notebook-cell:/c%3A/Users/ip%205/mike/path_to_perception/opencv/chapter-1/color_detect.ipynb#W4sZmlsZQ%3D%3D?line=5'>6</a>\u001b[0m     \u001b[39mif\u001b[39;00m k\u001b[39m==\u001b[39m\u001b[39m27\u001b[39m:\n\u001b[0;32m      <a href='vscode-notebook-cell:/c%3A/Users/ip%205/mike/path_to_perception/opencv/chapter-1/color_detect.ipynb#W4sZmlsZQ%3D%3D?line=6'>7</a>\u001b[0m      \u001b[39mbreak\u001b[39;00m\n",
      "\u001b[1;31mKeyboardInterrupt\u001b[0m: "
     ]
    }
   ],
   "source": [
    "mask_toput=cv2.inRange(hsv_convert,lower_range,upper_range)\n",
    "cv2.imshow('image', image)\n",
    "cv2.imshow('mask',mask_toput)\n",
    "while(True):\n",
    "    k=cv2.waitKey(5) & 0xFF \n",
    "    if k==27:\n",
    "     break\n"
   ]
  },
  {
   "cell_type": "code",
   "execution_count": null,
   "metadata": {},
   "outputs": [],
   "source": []
  }
 ],
 "metadata": {
  "kernelspec": {
   "display_name": "base",
   "language": "python",
   "name": "python3"
  },
  "language_info": {
   "codemirror_mode": {
    "name": "ipython",
    "version": 3
   },
   "file_extension": ".py",
   "mimetype": "text/x-python",
   "name": "python",
   "nbconvert_exporter": "python",
   "pygments_lexer": "ipython3",
   "version": "3.8.8"
  },
  "orig_nbformat": 4,
  "vscode": {
   "interpreter": {
    "hash": "d2f60eb79c2c256d4a47fab336a9262d674b400d5ee0c4e78852c92653dd4d35"
   }
  }
 },
 "nbformat": 4,
 "nbformat_minor": 2
}
